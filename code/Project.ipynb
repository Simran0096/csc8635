{
 "cells": [
  {
   "cell_type": "markdown",
   "metadata": {},
   "source": [
    "# Machine Learning Project- Simran Choudhary"
   ]
  },
  {
   "cell_type": "raw",
   "metadata": {},
   "source": [
    "For this project, I selected the Fashion MNIST dataset from Zalando\n",
    "Since the dataset is a very popular dataset and is built in the keras library, the dataset was read using the keras library modules."
   ]
  },
  {
   "cell_type": "code",
   "execution_count": 2,
   "metadata": {},
   "outputs": [],
   "source": [
    "# Importing the required libraries\n",
    "\n",
    "import tensorflow as tf\n",
    "import numpy as np\n",
    "import seaborn as sns\n",
    "from tensorflow import keras\n",
    "import matplotlib.pyplot as plt\n",
    "from sklearn.model_selection import train_test_split\n",
    "import tensorflow.keras.layers as layers\n",
    "from tensorflow.keras.models import Sequential\n",
    "from sklearn.metrics import accuracy_score, confusion_matrix, classification_report\n",
    "from tensorflow.keras.layers import Dense, Activation, Flatten \n",
    "from tensorflow.keras.layers import Conv2D, MaxPool2D, BatchNormalization\n",
    "from tensorflow.keras import optimizers"
   ]
  },
  {
   "cell_type": "markdown",
   "metadata": {},
   "source": [
    "# Reading the dataset"
   ]
  },
  {
   "cell_type": "code",
   "execution_count": 3,
   "metadata": {},
   "outputs": [
    {
     "name": "stdout",
     "output_type": "stream",
     "text": [
      "(60000, 28, 28, 1)\n"
     ]
    },
    {
     "data": {
      "image/png": "[encoded data removed]",
      "text/plain": [
       "<Figure size 432x288 with 1 Axes>"
      ]
     },
     "metadata": {
      "needs_background": "light"
     },
     "output_type": "display_data"
    }
   ],
   "source": [
    "mnist_data = keras.datasets.fashion_mnist\n",
    "(train_images, train_labels), (test_images, test_labels) = mnist_data.load_data() # Separating the training and testing images and labels\n",
    "\n",
    "plt.imshow(train_images[1]) # plot for one image using matplotlib\n",
    "\n",
    "train_images, test_images = train_images/255, test_images/255 # Normlaizing the training and testing images\n",
    "train_images, test_images = train_images.reshape(len(train_images), 28,28,1), test_images.reshape(len(test_images), 28,28,1) # Reshaping the images \n",
    "print(train_images.shape)"
   ]
  },
  {
   "cell_type": "code",
   "execution_count": 5,
   "metadata": {},
   "outputs": [],
   "source": [
    "# Splitting the dataset into training and testing.\n",
    "x_train,x_test, y_train, y_test = train_test_split(train_images, train_labels, test_size=0.3, random_state=10) \n",
    "# Splitting the images and putting random state to re-produce the results."
   ]
  },
  {
   "cell_type": "markdown",
   "metadata": {},
   "source": [
    "# Convolutional Neural Network"
   ]
  },
  {
   "cell_type": "code",
   "execution_count": 6,
   "metadata": {
    "scrolled": true
   },
   "outputs": [
    {
     "name": "stdout",
     "output_type": "stream",
     "text": [
      "Model: \"sequential\"\n",
      "_________________________________________________________________\n",
      " Layer (type)                Output Shape              Param #   \n",
      "=================================================================\n",
      " conv2d (Conv2D)             (None, 26, 26, 64)        640       \n",
      "                                                                 \n",
      " batch_normalization (BatchN  (None, 26, 26, 64)       256       \n",
      " ormalization)                                                   \n",
      "                                                                 \n",
      " max_pooling2d (MaxPooling2D  (None, 13, 13, 64)       0         \n",
      " )                                                               \n",
      "                                                                 \n",
      " conv2d_1 (Conv2D)           (None, 11, 11, 64)        36928     \n",
      "                                                                 \n",
      " batch_normalization_1 (Batc  (None, 11, 11, 64)       256       \n",
      " hNormalization)                                                 \n",
      "                                                                 \n",
      " max_pooling2d_1 (MaxPooling  (None, 5, 5, 64)         0         \n",
      " 2D)                                                             \n",
      "                                                                 \n",
      " flatten (Flatten)           (None, 1600)              0         \n",
      "                                                                 \n",
      " dense (Dense)               (None, 256)               409856    \n",
      "                                                                 \n",
      " dense_1 (Dense)             (None, 10)                2570      \n",
      "                                                                 \n",
      "=================================================================\n",
      "Total params: 450,506\n",
      "Trainable params: 450,250\n",
      "Non-trainable params: 256\n",
      "_________________________________________________________________\n"
     ]
    }
   ],
   "source": [
    "# Creating the sequential model for training\n",
    "model= Sequential()\n",
    "model.add(Conv2D(64, kernel_size=3, activation='relu', input_shape=(28,28,1)))\n",
    "model.add(BatchNormalization())\n",
    "model.add(MaxPool2D(2,2))\n",
    "model.add(Conv2D(64, kernel_size=3, activation='relu'))\n",
    "model.add(BatchNormalization())\n",
    "model.add(MaxPool2D(2,2))\n",
    "model.add(Flatten())\n",
    "model.add(Dense(256, activation='relu'))\n",
    "model.add(Dense(10, activation='softmax'))\n",
    "model.summary()"
   ]
  },
  {
   "cell_type": "code",
   "execution_count": 7,
   "metadata": {},
   "outputs": [
    {
     "name": "stderr",
     "output_type": "stream",
     "text": [
      "C:\\Users\\visha\\anaconda3\\lib\\site-packages\\keras\\optimizer_v2\\adam.py:105: UserWarning: The `lr` argument is deprecated, use `learning_rate` instead.\n",
      "  super(Adam, self).__init__(name, **kwargs)\n"
     ]
    },
    {
     "name": "stdout",
     "output_type": "stream",
     "text": [
      "Epoch 1/50\n",
      "42/42 [==============================] - 9s 100ms/step - loss: 0.6163 - accuracy: 0.7856 - val_loss: 2.0705 - val_accuracy: 0.3054\n",
      "Epoch 2/50\n",
      "42/42 [==============================] - 4s 95ms/step - loss: 0.3210 - accuracy: 0.8841 - val_loss: 2.2876 - val_accuracy: 0.1331\n",
      "Epoch 3/50\n",
      "42/42 [==============================] - 4s 95ms/step - loss: 0.2620 - accuracy: 0.9045 - val_loss: 2.6956 - val_accuracy: 0.1163\n",
      "Epoch 4/50\n",
      "42/42 [==============================] - 4s 95ms/step - loss: 0.2283 - accuracy: 0.9158 - val_loss: 3.1391 - val_accuracy: 0.1043\n",
      "Epoch 5/50\n",
      "42/42 [==============================] - 4s 96ms/step - loss: 0.1932 - accuracy: 0.9290 - val_loss: 3.3967 - val_accuracy: 0.1048\n",
      "Epoch 6/50\n",
      "42/42 [==============================] - 4s 97ms/step - loss: 0.1731 - accuracy: 0.9372 - val_loss: 3.3807 - val_accuracy: 0.1433\n",
      "Epoch 7/50\n",
      "42/42 [==============================] - 4s 98ms/step - loss: 0.1407 - accuracy: 0.9503 - val_loss: 3.4231 - val_accuracy: 0.1503\n",
      "Epoch 8/50\n",
      "42/42 [==============================] - 4s 94ms/step - loss: 0.1220 - accuracy: 0.9577 - val_loss: 3.3829 - val_accuracy: 0.1492\n",
      "Epoch 9/50\n",
      "42/42 [==============================] - 4s 97ms/step - loss: 0.1042 - accuracy: 0.9645 - val_loss: 2.6166 - val_accuracy: 0.2901\n",
      "Epoch 10/50\n",
      "42/42 [==============================] - 4s 99ms/step - loss: 0.0868 - accuracy: 0.9710 - val_loss: 2.3749 - val_accuracy: 0.4168\n",
      "Epoch 11/50\n",
      "42/42 [==============================] - 4s 95ms/step - loss: 0.0705 - accuracy: 0.9774 - val_loss: 1.8546 - val_accuracy: 0.5377\n",
      "Epoch 12/50\n",
      "42/42 [==============================] - 4s 98ms/step - loss: 0.0537 - accuracy: 0.9842 - val_loss: 1.3089 - val_accuracy: 0.6507\n",
      "Epoch 13/50\n",
      "42/42 [==============================] - 4s 98ms/step - loss: 0.0465 - accuracy: 0.9861 - val_loss: 0.9083 - val_accuracy: 0.7339\n",
      "Epoch 14/50\n",
      "42/42 [==============================] - 4s 95ms/step - loss: 0.0353 - accuracy: 0.9906 - val_loss: 0.5885 - val_accuracy: 0.8122\n",
      "Epoch 15/50\n",
      "42/42 [==============================] - 4s 95ms/step - loss: 0.0266 - accuracy: 0.9938 - val_loss: 0.4603 - val_accuracy: 0.8538\n",
      "Epoch 16/50\n",
      "42/42 [==============================] - 4s 96ms/step - loss: 0.0211 - accuracy: 0.9958 - val_loss: 0.3718 - val_accuracy: 0.8842\n",
      "Epoch 17/50\n",
      "42/42 [==============================] - 4s 95ms/step - loss: 0.0177 - accuracy: 0.9965 - val_loss: 0.3343 - val_accuracy: 0.9012\n",
      "Epoch 18/50\n",
      "42/42 [==============================] - 4s 96ms/step - loss: 0.0135 - accuracy: 0.9979 - val_loss: 0.3484 - val_accuracy: 0.9043\n",
      "Epoch 19/50\n",
      "42/42 [==============================] - 4s 95ms/step - loss: 0.0098 - accuracy: 0.9987 - val_loss: 0.3575 - val_accuracy: 0.9057\n",
      "Epoch 20/50\n",
      "42/42 [==============================] - 4s 96ms/step - loss: 0.0070 - accuracy: 0.9995 - val_loss: 0.3623 - val_accuracy: 0.9102\n",
      "Epoch 21/50\n",
      "42/42 [==============================] - 4s 95ms/step - loss: 0.0057 - accuracy: 0.9995 - val_loss: 0.3748 - val_accuracy: 0.9094\n",
      "Epoch 22/50\n",
      "42/42 [==============================] - 4s 95ms/step - loss: 0.0036 - accuracy: 1.0000 - val_loss: 0.3879 - val_accuracy: 0.9103\n",
      "Epoch 23/50\n",
      "42/42 [==============================] - 4s 96ms/step - loss: 0.0027 - accuracy: 1.0000 - val_loss: 0.3962 - val_accuracy: 0.9098\n",
      "Epoch 24/50\n",
      "42/42 [==============================] - 4s 96ms/step - loss: 0.0022 - accuracy: 1.0000 - val_loss: 0.4001 - val_accuracy: 0.9109\n",
      "Epoch 25/50\n",
      "42/42 [==============================] - 4s 96ms/step - loss: 0.0018 - accuracy: 1.0000 - val_loss: 0.4079 - val_accuracy: 0.9108\n",
      "Epoch 26/50\n",
      "42/42 [==============================] - 4s 96ms/step - loss: 0.0015 - accuracy: 1.0000 - val_loss: 0.4160 - val_accuracy: 0.9107\n",
      "Epoch 27/50\n",
      "42/42 [==============================] - 4s 95ms/step - loss: 0.0013 - accuracy: 1.0000 - val_loss: 0.4224 - val_accuracy: 0.9113\n",
      "Epoch 28/50\n",
      "42/42 [==============================] - 4s 96ms/step - loss: 0.0012 - accuracy: 1.0000 - val_loss: 0.4292 - val_accuracy: 0.9102\n",
      "Epoch 29/50\n",
      "42/42 [==============================] - 4s 95ms/step - loss: 0.0011 - accuracy: 1.0000 - val_loss: 0.4313 - val_accuracy: 0.9111\n",
      "Epoch 30/50\n",
      "42/42 [==============================] - 4s 95ms/step - loss: 9.7055e-04 - accuracy: 1.0000 - val_loss: 0.4358 - val_accuracy: 0.9119\n",
      "Epoch 31/50\n",
      "42/42 [==============================] - 4s 95ms/step - loss: 8.5632e-04 - accuracy: 1.0000 - val_loss: 0.4419 - val_accuracy: 0.9117\n",
      "Epoch 32/50\n",
      "42/42 [==============================] - 4s 95ms/step - loss: 7.8557e-04 - accuracy: 1.0000 - val_loss: 0.4465 - val_accuracy: 0.9117\n",
      "Epoch 33/50\n",
      "42/42 [==============================] - 4s 96ms/step - loss: 7.1728e-04 - accuracy: 1.0000 - val_loss: 0.4473 - val_accuracy: 0.9114\n",
      "Epoch 34/50\n",
      "42/42 [==============================] - 4s 95ms/step - loss: 6.6305e-04 - accuracy: 1.0000 - val_loss: 0.4524 - val_accuracy: 0.9121\n",
      "Epoch 35/50\n",
      "42/42 [==============================] - 4s 96ms/step - loss: 6.2273e-04 - accuracy: 1.0000 - val_loss: 0.4560 - val_accuracy: 0.9116\n",
      "Epoch 36/50\n",
      "42/42 [==============================] - 4s 96ms/step - loss: 5.7750e-04 - accuracy: 1.0000 - val_loss: 0.4585 - val_accuracy: 0.9116\n",
      "Epoch 37/50\n",
      "42/42 [==============================] - 4s 95ms/step - loss: 5.4170e-04 - accuracy: 1.0000 - val_loss: 0.4633 - val_accuracy: 0.9114\n",
      "Epoch 38/50\n",
      "42/42 [==============================] - 4s 96ms/step - loss: 5.0688e-04 - accuracy: 1.0000 - val_loss: 0.4684 - val_accuracy: 0.9111\n",
      "Epoch 39/50\n",
      "42/42 [==============================] - 4s 95ms/step - loss: 4.7648e-04 - accuracy: 1.0000 - val_loss: 0.4704 - val_accuracy: 0.9112\n",
      "Epoch 40/50\n",
      "42/42 [==============================] - 4s 96ms/step - loss: 4.5190e-04 - accuracy: 1.0000 - val_loss: 0.4723 - val_accuracy: 0.9112\n",
      "Epoch 41/50\n",
      "42/42 [==============================] - 4s 95ms/step - loss: 4.2679e-04 - accuracy: 1.0000 - val_loss: 0.4746 - val_accuracy: 0.9116\n",
      "Epoch 42/50\n",
      "42/42 [==============================] - 4s 96ms/step - loss: 3.9597e-04 - accuracy: 1.0000 - val_loss: 0.4768 - val_accuracy: 0.9112\n",
      "Epoch 43/50\n",
      "42/42 [==============================] - 4s 96ms/step - loss: 3.6913e-04 - accuracy: 1.0000 - val_loss: 0.4811 - val_accuracy: 0.9113\n",
      "Epoch 44/50\n",
      "42/42 [==============================] - 4s 95ms/step - loss: 3.5284e-04 - accuracy: 1.0000 - val_loss: 0.4815 - val_accuracy: 0.9119\n",
      "Epoch 45/50\n",
      "42/42 [==============================] - 4s 96ms/step - loss: 3.3179e-04 - accuracy: 1.0000 - val_loss: 0.4864 - val_accuracy: 0.9114\n",
      "Epoch 46/50\n",
      "42/42 [==============================] - 4s 95ms/step - loss: 3.1866e-04 - accuracy: 1.0000 - val_loss: 0.4887 - val_accuracy: 0.9118\n",
      "Epoch 47/50\n",
      "42/42 [==============================] - 4s 96ms/step - loss: 2.9866e-04 - accuracy: 1.0000 - val_loss: 0.4919 - val_accuracy: 0.9118\n",
      "Epoch 48/50\n",
      "42/42 [==============================] - 4s 95ms/step - loss: 2.8234e-04 - accuracy: 1.0000 - val_loss: 0.4935 - val_accuracy: 0.9117\n",
      "Epoch 49/50\n",
      "42/42 [==============================] - 5s 108ms/step - loss: 2.6802e-04 - accuracy: 1.0000 - val_loss: 0.4991 - val_accuracy: 0.9116\n",
      "Epoch 50/50\n",
      "42/42 [==============================] - 4s 95ms/step - loss: 2.5530e-04 - accuracy: 1.0000 - val_loss: 0.4978 - val_accuracy: 0.9116\n"
     ]
    },
    {
     "data": {
      "image/png": "[encoded data removed]",
      "text/plain": [
       "<Figure size 432x288 with 2 Axes>"
      ]
     },
     "metadata": {
      "needs_background": "light"
     },
     "output_type": "display_data"
    }
   ],
   "source": [
    "keras.optimizers.Adam(lr=0.00001, beta_1=0.9, beta_2=0.999, amsgrad=False) \n",
    "model.compile(optimizer='Adam', loss='sparse_categorical_crossentropy', metrics=['accuracy'])\n",
    "\n",
    "history= model.fit(x_train, y_train, epochs=50, batch_size=1000, verbose=1, validation_data=(x_test, y_test))\n",
    "\n",
    "fig, ax = plt.subplots(2, 1)\n",
    "ax[0].plot(history.history['accuracy'], 'ro-', label = \"Train Accuracy\")\n",
    "ax[0].plot(history.history['val_accuracy'], 'go-', label = \"Test Accuracy\")\n",
    "ax[0].set_xlabel(\"Epoch\")\n",
    "ax[0].set_ylabel(\"Accuracy / %\")\n",
    "ax[0].legend(loc = \"best\")\n",
    "ax[0].grid('on')\n",
    "\n",
    "ax[1].plot(history.history['loss'], 'ro-', label = \"Train Loss\")\n",
    "ax[1].plot(history.history['val_loss'], 'go-', label = \"Test Loss\")\n",
    "ax[1].set_xlabel(\"Epoch\")\n",
    "ax[1].set_ylabel(\"Loss\")\n",
    "ax[1].legend(loc = \"best\")\n",
    "ax[1].grid('on')\n",
    "plt.show()\n"
   ]
  }
 ],
 "metadata": {
  "kernelspec": {
   "display_name": "Python 3",
   "language": "python",
   "name": "python3"
  },
  "language_info": {
   "codemirror_mode": {
    "name": "ipython",
    "version": 3
   },
   "file_extension": ".py",
   "mimetype": "text/x-python",
   "name": "python",
   "nbconvert_exporter": "python",
   "pygments_lexer": "ipython3",
   "version": "3.8.5"
  }
 },
 "nbformat": 4,
 "nbformat_minor": 5
}
